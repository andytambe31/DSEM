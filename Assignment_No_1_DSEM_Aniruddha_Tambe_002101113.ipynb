{
  "nbformat": 4,
  "nbformat_minor": 0,
  "metadata": {
    "colab": {
      "name": "Assignment No.1_DSEM_Aniruddha_Tambe_002101113.ipynb",
      "provenance": [],
      "collapsed_sections": [],
      "authorship_tag": "ABX9TyMPbdui65uV46UHrBrMNAq6",
      "include_colab_link": true
    },
    "kernelspec": {
      "name": "python3",
      "display_name": "Python 3"
    },
    "language_info": {
      "name": "python"
    }
  },
  "cells": [
    {
      "cell_type": "markdown",
      "metadata": {
        "id": "view-in-github",
        "colab_type": "text"
      },
      "source": [
        "<a href=\"https://colab.research.google.com/github/andytambe31/DSEM/blob/main/Assignment_No_1_DSEM_Aniruddha_Tambe_002101113.ipynb\" target=\"_parent\"><img src=\"https://colab.research.google.com/assets/colab-badge.svg\" alt=\"Open In Colab\"/></a>"
      ]
    },
    {
      "cell_type": "markdown",
      "metadata": {
        "id": "Ab8kz4W4cgn7"
      },
      "source": [
        "## Assignment No.1 - Data Science Engg Methods & Tools\n",
        "\n",
        " **Student Name: Aniruddha Tambe**\n",
        "\n",
        " **NU ID: 002101113**\n"
      ]
    },
    {
      "cell_type": "markdown",
      "metadata": {
        "id": "DczFnRoEd1Vy"
      },
      "source": [
        "## Abstract\n",
        "\n",
        "The dataset contains data collected from a gas turbine located near Turkey's north western region. A set of 11 sensors are outputting aggregated data per hour(numerical data), which is used to study gas emissions of CO2 and NOx. This data can be used to predict the turbine energy yield using the ambient variable features. The source website also mentioned that we must use first 3 year i.e. from 2011 to 2013 as our training dataset and the rest as test set i.e. from 2014 & 2015"
      ]
    },
    {
      "cell_type": "markdown",
      "metadata": {
        "id": "ngNoea2rgE_Z"
      },
      "source": [
        "## Problem Statement\n",
        "\n",
        "By using the above described dataset, we want to peform EDA and answer the assignments questions. To achieve this task we will use the open source libraries of NumPy, pandas, matplotlib, seaborn & scikit-learn."
      ]
    },
    {
      "cell_type": "code",
      "metadata": {
        "cellView": "form",
        "id": "LdCUugct1YAx"
      },
      "source": [
        "#@title\n",
        "# Creating a function for subplotting\n",
        "\n",
        "def sub_plot(data_frame,col,row, plot_type=\"none\",ignore='null'):\n",
        "  \n",
        "  fig, ax = plt.subplots(row, col,figsize=(15,15))\n",
        "  plt.subplots_adjust(left=0.1,bottom=0.1,right=0.9,top=1.0,wspace=0.4,hspace=0.4)\n",
        "  \n",
        "  \n",
        "  # pointers\n",
        "  i = 0\n",
        "  j = 0\n",
        "  k = 0\n",
        "\n",
        "  for var_name in data_frame.columns:\n",
        "\n",
        "    try:\n",
        "\n",
        "      if var_name == ignore:\n",
        "        continue\n",
        "\n",
        "            # Plot\n",
        "      if plot_type == 'histogram':\n",
        "        if col != 1:\n",
        "          ax[i,j].hist(data_frame[var_name],density=True)\n",
        "          ax[i,j].set_title(var_name)\n",
        "\n",
        "        else:\n",
        "            ax[j].hist(data_frame[var_name],density=True)\n",
        "            ax[j].set_title(var_name)\n",
        "\n",
        "      elif plot_type == 'box':\n",
        "\n",
        "        if col != 1:\n",
        "          ax[i,j].boxplot(data_frame[var_name])\n",
        "          ax[i,j].set_title(var_name)\n",
        "\n",
        "        else:\n",
        "            ax[j].boxplot(data_frame[var_name])\n",
        "            ax[j].set_title(var_name)\n",
        "\n",
        "        \n",
        "      \n",
        "\n",
        "      #Increment col pointer\n",
        "      j += 1\n",
        "\n",
        "      # Increment row pointer to next row\n",
        "      if j == col & col != 1:\n",
        "        i += 1\n",
        "        j = 0\n",
        "    except:\n",
        "      print(\"GO DS!!\")\n",
        "   \n"
      ],
      "execution_count": 131,
      "outputs": []
    },
    {
      "cell_type": "code",
      "metadata": {
        "cellView": "form",
        "id": "cMD5HD6T4ay7"
      },
      "source": [
        "#@title\n",
        "def drop_corr_columns(dFrame,threshold = 0.95,ignore='null'):\n",
        "\n",
        "# Citation: https://chrisalbon.com/code/machine_learning/feature_selection/drop_highly_correlated_features/\n",
        "\n",
        "  # Calculate the correlation matrix\n",
        "  corr_matrix = dFrame.corr()\n",
        "\n",
        "  # Get the upper triangle of the matrix\n",
        "  upper = corr_matrix.where(np.triu(np.ones(corr_matrix.shape), k=1).astype(np.bool))\n",
        "\n",
        "  # Find the index of feature columns with columns with correlation greater than threshold\n",
        "  to_drop = [column for column in upper.columns if any(upper[column] >= threshold)]\n",
        "\n",
        "  #Drop the columns\n",
        "  print('Dropped columns:')\n",
        "  to_drop.remove(ignore)\n",
        "  print(to_drop)\n",
        "  dFrame.drop(dFrame[to_drop], axis=1,inplace = True)"
      ],
      "execution_count": 132,
      "outputs": []
    },
    {
      "cell_type": "code",
      "metadata": {
        "id": "bSsqwUAzh_au"
      },
      "source": [
        "# Magic function for displaying matplotlib plots in the notebook\n",
        "%matplotlib inline\n",
        "\n",
        "#Imports for all the required libraries\n",
        "import matplotlib.pyplot as plt\n",
        "import pandas as pd\n",
        "import numpy as np\n",
        "import seaborn as sns\n",
        "from sklearn.preprocessing import MinMaxScaler\n",
        "import statsmodels.api as smf\n",
        "\n",
        "\n",
        "# Make plots larger\n",
        "plt.rcParams['figure.figsize'] = (10, 6)\n",
        "\n",
        "#Importing data into a dataframe\n",
        "data_2011 = pd.read_csv('https://raw.githubusercontent.com/andytambe31/DSEM/main/Dataset/gt_2011.csv')\n",
        "data_2012 = pd.read_csv('https://raw.githubusercontent.com/andytambe31/DSEM/main/Dataset/gt_2012.csv')\n",
        "data_2013 = pd.read_csv('https://raw.githubusercontent.com/andytambe31/DSEM/main/Dataset/gt_2013.csv')\n",
        "data_2014 = pd.read_csv('https://raw.githubusercontent.com/andytambe31/DSEM/main/Dataset/gt_2014.csv')\n",
        "data_2015 = pd.read_csv('https://raw.githubusercontent.com/andytambe31/DSEM/main/Dataset/gt_2015.csv')\n",
        "\n",
        "#Merging each csv file into training and test set\n",
        "data_train = pd.concat([data_2011,data_2012,data_2013])\n",
        "data_test = pd.concat([data_2014,data_2015])\n"
      ],
      "execution_count": 120,
      "outputs": []
    },
    {
      "cell_type": "code",
      "metadata": {
        "colab": {
          "base_uri": "https://localhost:8080/",
          "height": 202
        },
        "id": "KJIFF8G8k91x",
        "outputId": "06367a23-56b8-4bf4-a194-0dfdb0b1a0a1"
      },
      "source": [
        "# Lets visualize both datasets\n",
        "data_train.head() # This function returns first 5(default) rows"
      ],
      "execution_count": 133,
      "outputs": [
        {
          "output_type": "execute_result",
          "data": {
            "text/html": [
              "<div>\n",
              "<style scoped>\n",
              "    .dataframe tbody tr th:only-of-type {\n",
              "        vertical-align: middle;\n",
              "    }\n",
              "\n",
              "    .dataframe tbody tr th {\n",
              "        vertical-align: top;\n",
              "    }\n",
              "\n",
              "    .dataframe thead th {\n",
              "        text-align: right;\n",
              "    }\n",
              "</style>\n",
              "<table border=\"1\" class=\"dataframe\">\n",
              "  <thead>\n",
              "    <tr style=\"text-align: right;\">\n",
              "      <th></th>\n",
              "      <th>AT</th>\n",
              "      <th>AP</th>\n",
              "      <th>AH</th>\n",
              "      <th>AFDP</th>\n",
              "      <th>GTEP</th>\n",
              "      <th>TIT</th>\n",
              "      <th>TAT</th>\n",
              "      <th>TEY</th>\n",
              "      <th>CDP</th>\n",
              "      <th>CO</th>\n",
              "      <th>NOX</th>\n",
              "    </tr>\n",
              "  </thead>\n",
              "  <tbody>\n",
              "    <tr>\n",
              "      <th>0</th>\n",
              "      <td>4.5878</td>\n",
              "      <td>1018.7</td>\n",
              "      <td>83.675</td>\n",
              "      <td>3.5758</td>\n",
              "      <td>23.979</td>\n",
              "      <td>1086.2</td>\n",
              "      <td>549.83</td>\n",
              "      <td>134.67</td>\n",
              "      <td>11.898</td>\n",
              "      <td>0.32663</td>\n",
              "      <td>81.952</td>\n",
              "    </tr>\n",
              "    <tr>\n",
              "      <th>1</th>\n",
              "      <td>4.2932</td>\n",
              "      <td>1018.3</td>\n",
              "      <td>84.235</td>\n",
              "      <td>3.5709</td>\n",
              "      <td>23.951</td>\n",
              "      <td>1086.1</td>\n",
              "      <td>550.05</td>\n",
              "      <td>134.67</td>\n",
              "      <td>11.892</td>\n",
              "      <td>0.44784</td>\n",
              "      <td>82.377</td>\n",
              "    </tr>\n",
              "    <tr>\n",
              "      <th>2</th>\n",
              "      <td>3.9045</td>\n",
              "      <td>1018.4</td>\n",
              "      <td>84.858</td>\n",
              "      <td>3.5828</td>\n",
              "      <td>23.990</td>\n",
              "      <td>1086.5</td>\n",
              "      <td>550.19</td>\n",
              "      <td>135.10</td>\n",
              "      <td>12.042</td>\n",
              "      <td>0.45144</td>\n",
              "      <td>83.776</td>\n",
              "    </tr>\n",
              "    <tr>\n",
              "      <th>3</th>\n",
              "      <td>3.7436</td>\n",
              "      <td>1018.3</td>\n",
              "      <td>85.434</td>\n",
              "      <td>3.5808</td>\n",
              "      <td>23.911</td>\n",
              "      <td>1086.5</td>\n",
              "      <td>550.17</td>\n",
              "      <td>135.03</td>\n",
              "      <td>11.990</td>\n",
              "      <td>0.23107</td>\n",
              "      <td>82.505</td>\n",
              "    </tr>\n",
              "    <tr>\n",
              "      <th>4</th>\n",
              "      <td>3.7516</td>\n",
              "      <td>1017.8</td>\n",
              "      <td>85.182</td>\n",
              "      <td>3.5781</td>\n",
              "      <td>23.917</td>\n",
              "      <td>1085.9</td>\n",
              "      <td>550.00</td>\n",
              "      <td>134.67</td>\n",
              "      <td>11.910</td>\n",
              "      <td>0.26747</td>\n",
              "      <td>82.028</td>\n",
              "    </tr>\n",
              "  </tbody>\n",
              "</table>\n",
              "</div>"
            ],
            "text/plain": [
              "       AT      AP      AH    AFDP  ...     TEY     CDP       CO     NOX\n",
              "0  4.5878  1018.7  83.675  3.5758  ...  134.67  11.898  0.32663  81.952\n",
              "1  4.2932  1018.3  84.235  3.5709  ...  134.67  11.892  0.44784  82.377\n",
              "2  3.9045  1018.4  84.858  3.5828  ...  135.10  12.042  0.45144  83.776\n",
              "3  3.7436  1018.3  85.434  3.5808  ...  135.03  11.990  0.23107  82.505\n",
              "4  3.7516  1017.8  85.182  3.5781  ...  134.67  11.910  0.26747  82.028\n",
              "\n",
              "[5 rows x 11 columns]"
            ]
          },
          "metadata": {},
          "execution_count": 133
        }
      ]
    },
    {
      "cell_type": "code",
      "metadata": {
        "colab": {
          "base_uri": "https://localhost:8080/",
          "height": 202
        },
        "id": "e7IRcdu6mamX",
        "outputId": "71e82107-5541-46e4-f155-c168483c8f15"
      },
      "source": [
        "data_test.head() "
      ],
      "execution_count": 134,
      "outputs": [
        {
          "output_type": "execute_result",
          "data": {
            "text/html": [
              "<div>\n",
              "<style scoped>\n",
              "    .dataframe tbody tr th:only-of-type {\n",
              "        vertical-align: middle;\n",
              "    }\n",
              "\n",
              "    .dataframe tbody tr th {\n",
              "        vertical-align: top;\n",
              "    }\n",
              "\n",
              "    .dataframe thead th {\n",
              "        text-align: right;\n",
              "    }\n",
              "</style>\n",
              "<table border=\"1\" class=\"dataframe\">\n",
              "  <thead>\n",
              "    <tr style=\"text-align: right;\">\n",
              "      <th></th>\n",
              "      <th>AT</th>\n",
              "      <th>AP</th>\n",
              "      <th>AH</th>\n",
              "      <th>AFDP</th>\n",
              "      <th>GTEP</th>\n",
              "      <th>TIT</th>\n",
              "      <th>TAT</th>\n",
              "      <th>TEY</th>\n",
              "      <th>CDP</th>\n",
              "      <th>CO</th>\n",
              "      <th>NOX</th>\n",
              "    </tr>\n",
              "  </thead>\n",
              "  <tbody>\n",
              "    <tr>\n",
              "      <th>0</th>\n",
              "      <td>8.8358</td>\n",
              "      <td>1022.2</td>\n",
              "      <td>98.762</td>\n",
              "      <td>3.2422</td>\n",
              "      <td>23.152</td>\n",
              "      <td>1067.5</td>\n",
              "      <td>549.94</td>\n",
              "      <td>126.16</td>\n",
              "      <td>11.381</td>\n",
              "      <td>1.9157</td>\n",
              "      <td>68.292</td>\n",
              "    </tr>\n",
              "    <tr>\n",
              "      <th>1</th>\n",
              "      <td>9.0529</td>\n",
              "      <td>1021.8</td>\n",
              "      <td>97.464</td>\n",
              "      <td>3.2074</td>\n",
              "      <td>23.207</td>\n",
              "      <td>1067.9</td>\n",
              "      <td>549.80</td>\n",
              "      <td>126.51</td>\n",
              "      <td>11.476</td>\n",
              "      <td>2.0596</td>\n",
              "      <td>68.610</td>\n",
              "    </tr>\n",
              "    <tr>\n",
              "      <th>2</th>\n",
              "      <td>9.2464</td>\n",
              "      <td>1021.3</td>\n",
              "      <td>96.494</td>\n",
              "      <td>3.2051</td>\n",
              "      <td>23.296</td>\n",
              "      <td>1068.5</td>\n",
              "      <td>549.89</td>\n",
              "      <td>126.96</td>\n",
              "      <td>11.555</td>\n",
              "      <td>2.1621</td>\n",
              "      <td>68.324</td>\n",
              "    </tr>\n",
              "    <tr>\n",
              "      <th>3</th>\n",
              "      <td>9.3792</td>\n",
              "      <td>1020.9</td>\n",
              "      <td>95.912</td>\n",
              "      <td>3.2159</td>\n",
              "      <td>23.465</td>\n",
              "      <td>1069.6</td>\n",
              "      <td>549.94</td>\n",
              "      <td>127.83</td>\n",
              "      <td>11.539</td>\n",
              "      <td>2.1214</td>\n",
              "      <td>67.619</td>\n",
              "    </tr>\n",
              "    <tr>\n",
              "      <th>4</th>\n",
              "      <td>9.5757</td>\n",
              "      <td>1020.8</td>\n",
              "      <td>95.412</td>\n",
              "      <td>3.1898</td>\n",
              "      <td>23.205</td>\n",
              "      <td>1068.1</td>\n",
              "      <td>549.83</td>\n",
              "      <td>126.56</td>\n",
              "      <td>11.484</td>\n",
              "      <td>2.1549</td>\n",
              "      <td>66.499</td>\n",
              "    </tr>\n",
              "  </tbody>\n",
              "</table>\n",
              "</div>"
            ],
            "text/plain": [
              "       AT      AP      AH    AFDP  ...     TEY     CDP      CO     NOX\n",
              "0  8.8358  1022.2  98.762  3.2422  ...  126.16  11.381  1.9157  68.292\n",
              "1  9.0529  1021.8  97.464  3.2074  ...  126.51  11.476  2.0596  68.610\n",
              "2  9.2464  1021.3  96.494  3.2051  ...  126.96  11.555  2.1621  68.324\n",
              "3  9.3792  1020.9  95.912  3.2159  ...  127.83  11.539  2.1214  67.619\n",
              "4  9.5757  1020.8  95.412  3.1898  ...  126.56  11.484  2.1549  66.499\n",
              "\n",
              "[5 rows x 11 columns]"
            ]
          },
          "metadata": {},
          "execution_count": 134
        }
      ]
    },
    {
      "cell_type": "code",
      "metadata": {
        "colab": {
          "base_uri": "https://localhost:8080/"
        },
        "id": "ZmTty100ohC2",
        "outputId": "24ddd6d0-fea2-4b60-838b-e1424b541782"
      },
      "source": [
        "# For getting the number of rows and columns in our dataset we use shape of the pandas dataframe\n",
        "data_train.shape"
      ],
      "execution_count": 135,
      "outputs": [
        {
          "output_type": "execute_result",
          "data": {
            "text/plain": [
              "(22191, 11)"
            ]
          },
          "metadata": {},
          "execution_count": 135
        }
      ]
    },
    {
      "cell_type": "markdown",
      "metadata": {
        "id": "YoSfsOGkmgQX"
      },
      "source": [
        "## Let's take a look at some statistics"
      ]
    },
    {
      "cell_type": "code",
      "metadata": {
        "colab": {
          "base_uri": "https://localhost:8080/"
        },
        "id": "ak3xOgMjmkzh",
        "outputId": "932f0068-bea2-4866-f0e1-d42772456974"
      },
      "source": [
        "data_train.info()"
      ],
      "execution_count": 136,
      "outputs": [
        {
          "output_type": "stream",
          "name": "stdout",
          "text": [
            "<class 'pandas.core.frame.DataFrame'>\n",
            "Int64Index: 22191 entries, 0 to 7151\n",
            "Data columns (total 11 columns):\n",
            " #   Column  Non-Null Count  Dtype  \n",
            "---  ------  --------------  -----  \n",
            " 0   AT      22191 non-null  float64\n",
            " 1   AP      22191 non-null  float64\n",
            " 2   AH      22191 non-null  float64\n",
            " 3   AFDP    22191 non-null  float64\n",
            " 4   GTEP    22191 non-null  float64\n",
            " 5   TIT     22191 non-null  float64\n",
            " 6   TAT     22191 non-null  float64\n",
            " 7   TEY     22191 non-null  float64\n",
            " 8   CDP     22191 non-null  float64\n",
            " 9   CO      22191 non-null  float64\n",
            " 10  NOX     22191 non-null  float64\n",
            "dtypes: float64(11)\n",
            "memory usage: 2.0 MB\n"
          ]
        }
      ]
    },
    {
      "cell_type": "markdown",
      "metadata": {
        "id": "0HcRlP2l2mO3"
      },
      "source": [
        "**Q. Which independent variables have null value? How much?**\n",
        "\n",
        "For this dataset, the values doesn't have any nul values\n"
      ]
    },
    {
      "cell_type": "code",
      "metadata": {
        "colab": {
          "base_uri": "https://localhost:8080/",
          "height": 294
        },
        "id": "3R8mUmy2py1H",
        "outputId": "54661182-ac4e-44dd-d813-b8126bc5c38b"
      },
      "source": [
        "data_train.describe()"
      ],
      "execution_count": 137,
      "outputs": [
        {
          "output_type": "execute_result",
          "data": {
            "text/html": [
              "<div>\n",
              "<style scoped>\n",
              "    .dataframe tbody tr th:only-of-type {\n",
              "        vertical-align: middle;\n",
              "    }\n",
              "\n",
              "    .dataframe tbody tr th {\n",
              "        vertical-align: top;\n",
              "    }\n",
              "\n",
              "    .dataframe thead th {\n",
              "        text-align: right;\n",
              "    }\n",
              "</style>\n",
              "<table border=\"1\" class=\"dataframe\">\n",
              "  <thead>\n",
              "    <tr style=\"text-align: right;\">\n",
              "      <th></th>\n",
              "      <th>AT</th>\n",
              "      <th>AP</th>\n",
              "      <th>AH</th>\n",
              "      <th>AFDP</th>\n",
              "      <th>GTEP</th>\n",
              "      <th>TIT</th>\n",
              "      <th>TAT</th>\n",
              "      <th>TEY</th>\n",
              "      <th>CDP</th>\n",
              "      <th>CO</th>\n",
              "      <th>NOX</th>\n",
              "    </tr>\n",
              "  </thead>\n",
              "  <tbody>\n",
              "    <tr>\n",
              "      <th>count</th>\n",
              "      <td>22191.000000</td>\n",
              "      <td>22191.000000</td>\n",
              "      <td>22191.000000</td>\n",
              "      <td>22191.000000</td>\n",
              "      <td>22191.000000</td>\n",
              "      <td>22191.000000</td>\n",
              "      <td>22191.000000</td>\n",
              "      <td>22191.000000</td>\n",
              "      <td>22191.000000</td>\n",
              "      <td>22191.000000</td>\n",
              "      <td>22191.000000</td>\n",
              "    </tr>\n",
              "    <tr>\n",
              "      <th>mean</th>\n",
              "      <td>17.712247</td>\n",
              "      <td>1012.812607</td>\n",
              "      <td>79.555224</td>\n",
              "      <td>4.037750</td>\n",
              "      <td>25.317873</td>\n",
              "      <td>1083.080280</td>\n",
              "      <td>545.520170</td>\n",
              "      <td>133.537393</td>\n",
              "      <td>12.060208</td>\n",
              "      <td>2.214390</td>\n",
              "      <td>68.776529</td>\n",
              "    </tr>\n",
              "    <tr>\n",
              "      <th>std</th>\n",
              "      <td>7.352789</td>\n",
              "      <td>6.396588</td>\n",
              "      <td>13.915018</td>\n",
              "      <td>0.810223</td>\n",
              "      <td>4.234147</td>\n",
              "      <td>16.840765</td>\n",
              "      <td>7.708708</td>\n",
              "      <td>16.026107</td>\n",
              "      <td>1.114265</td>\n",
              "      <td>2.295746</td>\n",
              "      <td>11.036231</td>\n",
              "    </tr>\n",
              "    <tr>\n",
              "      <th>min</th>\n",
              "      <td>0.289850</td>\n",
              "      <td>985.850000</td>\n",
              "      <td>27.504000</td>\n",
              "      <td>2.087400</td>\n",
              "      <td>17.878000</td>\n",
              "      <td>1000.800000</td>\n",
              "      <td>512.450000</td>\n",
              "      <td>100.170000</td>\n",
              "      <td>9.875400</td>\n",
              "      <td>0.000388</td>\n",
              "      <td>27.765000</td>\n",
              "    </tr>\n",
              "    <tr>\n",
              "      <th>25%</th>\n",
              "      <td>11.664500</td>\n",
              "      <td>1008.800000</td>\n",
              "      <td>70.294500</td>\n",
              "      <td>3.449850</td>\n",
              "      <td>22.736000</td>\n",
              "      <td>1074.600000</td>\n",
              "      <td>542.600000</td>\n",
              "      <td>124.260000</td>\n",
              "      <td>11.395000</td>\n",
              "      <td>0.995375</td>\n",
              "      <td>61.548000</td>\n",
              "    </tr>\n",
              "    <tr>\n",
              "      <th>50%</th>\n",
              "      <td>17.739000</td>\n",
              "      <td>1012.400000</td>\n",
              "      <td>82.781000</td>\n",
              "      <td>4.068800</td>\n",
              "      <td>24.989000</td>\n",
              "      <td>1088.100000</td>\n",
              "      <td>549.900000</td>\n",
              "      <td>133.770000</td>\n",
              "      <td>12.001000</td>\n",
              "      <td>1.524200</td>\n",
              "      <td>67.096000</td>\n",
              "    </tr>\n",
              "    <tr>\n",
              "      <th>75%</th>\n",
              "      <td>23.657000</td>\n",
              "      <td>1016.700000</td>\n",
              "      <td>90.532000</td>\n",
              "      <td>4.451400</td>\n",
              "      <td>26.839000</td>\n",
              "      <td>1095.300000</td>\n",
              "      <td>550.050000</td>\n",
              "      <td>138.645000</td>\n",
              "      <td>12.443500</td>\n",
              "      <td>2.542400</td>\n",
              "      <td>74.572000</td>\n",
              "    </tr>\n",
              "    <tr>\n",
              "      <th>max</th>\n",
              "      <td>34.929000</td>\n",
              "      <td>1034.200000</td>\n",
              "      <td>100.200000</td>\n",
              "      <td>7.610600</td>\n",
              "      <td>37.402000</td>\n",
              "      <td>1100.800000</td>\n",
              "      <td>550.610000</td>\n",
              "      <td>174.610000</td>\n",
              "      <td>15.081000</td>\n",
              "      <td>44.103000</td>\n",
              "      <td>119.910000</td>\n",
              "    </tr>\n",
              "  </tbody>\n",
              "</table>\n",
              "</div>"
            ],
            "text/plain": [
              "                 AT            AP  ...            CO           NOX\n",
              "count  22191.000000  22191.000000  ...  22191.000000  22191.000000\n",
              "mean      17.712247   1012.812607  ...      2.214390     68.776529\n",
              "std        7.352789      6.396588  ...      2.295746     11.036231\n",
              "min        0.289850    985.850000  ...      0.000388     27.765000\n",
              "25%       11.664500   1008.800000  ...      0.995375     61.548000\n",
              "50%       17.739000   1012.400000  ...      1.524200     67.096000\n",
              "75%       23.657000   1016.700000  ...      2.542400     74.572000\n",
              "max       34.929000   1034.200000  ...     44.103000    119.910000\n",
              "\n",
              "[8 rows x 11 columns]"
            ]
          },
          "metadata": {},
          "execution_count": 137
        }
      ]
    },
    {
      "cell_type": "markdown",
      "metadata": {
        "id": "CPx7lz6krRsI"
      },
      "source": [
        "## We can see the range of both the dependent variable(TEY) and the independent varaibles is extremely different.\n",
        "\n",
        "## Hence we need the scale the varaible before hand"
      ]
    },
    {
      "cell_type": "code",
      "metadata": {
        "id": "Ftv7iLomr2Kb"
      },
      "source": [
        "# perform a robust scaler transform of the dataset\n",
        "trans = MinMaxScaler()\n",
        "data_train_scaled = trans.fit_transform(data_train)\n",
        "\n",
        "# Convert the array back to a dataframe\n",
        "data_train_scaled = pd.DataFrame(data_train_scaled,columns=data_train.columns)"
      ],
      "execution_count": 103,
      "outputs": []
    },
    {
      "cell_type": "code",
      "metadata": {
        "colab": {
          "base_uri": "https://localhost:8080/",
          "height": 202
        },
        "id": "Z_1P0p1ftO_T",
        "outputId": "a0489718-5a8f-4447-cf8e-fd3aa99af715"
      },
      "source": [
        "data_test.head()"
      ],
      "execution_count": 138,
      "outputs": [
        {
          "output_type": "execute_result",
          "data": {
            "text/html": [
              "<div>\n",
              "<style scoped>\n",
              "    .dataframe tbody tr th:only-of-type {\n",
              "        vertical-align: middle;\n",
              "    }\n",
              "\n",
              "    .dataframe tbody tr th {\n",
              "        vertical-align: top;\n",
              "    }\n",
              "\n",
              "    .dataframe thead th {\n",
              "        text-align: right;\n",
              "    }\n",
              "</style>\n",
              "<table border=\"1\" class=\"dataframe\">\n",
              "  <thead>\n",
              "    <tr style=\"text-align: right;\">\n",
              "      <th></th>\n",
              "      <th>AT</th>\n",
              "      <th>AP</th>\n",
              "      <th>AH</th>\n",
              "      <th>AFDP</th>\n",
              "      <th>GTEP</th>\n",
              "      <th>TIT</th>\n",
              "      <th>TAT</th>\n",
              "      <th>TEY</th>\n",
              "      <th>CDP</th>\n",
              "      <th>CO</th>\n",
              "      <th>NOX</th>\n",
              "    </tr>\n",
              "  </thead>\n",
              "  <tbody>\n",
              "    <tr>\n",
              "      <th>0</th>\n",
              "      <td>8.8358</td>\n",
              "      <td>1022.2</td>\n",
              "      <td>98.762</td>\n",
              "      <td>3.2422</td>\n",
              "      <td>23.152</td>\n",
              "      <td>1067.5</td>\n",
              "      <td>549.94</td>\n",
              "      <td>126.16</td>\n",
              "      <td>11.381</td>\n",
              "      <td>1.9157</td>\n",
              "      <td>68.292</td>\n",
              "    </tr>\n",
              "    <tr>\n",
              "      <th>1</th>\n",
              "      <td>9.0529</td>\n",
              "      <td>1021.8</td>\n",
              "      <td>97.464</td>\n",
              "      <td>3.2074</td>\n",
              "      <td>23.207</td>\n",
              "      <td>1067.9</td>\n",
              "      <td>549.80</td>\n",
              "      <td>126.51</td>\n",
              "      <td>11.476</td>\n",
              "      <td>2.0596</td>\n",
              "      <td>68.610</td>\n",
              "    </tr>\n",
              "    <tr>\n",
              "      <th>2</th>\n",
              "      <td>9.2464</td>\n",
              "      <td>1021.3</td>\n",
              "      <td>96.494</td>\n",
              "      <td>3.2051</td>\n",
              "      <td>23.296</td>\n",
              "      <td>1068.5</td>\n",
              "      <td>549.89</td>\n",
              "      <td>126.96</td>\n",
              "      <td>11.555</td>\n",
              "      <td>2.1621</td>\n",
              "      <td>68.324</td>\n",
              "    </tr>\n",
              "    <tr>\n",
              "      <th>3</th>\n",
              "      <td>9.3792</td>\n",
              "      <td>1020.9</td>\n",
              "      <td>95.912</td>\n",
              "      <td>3.2159</td>\n",
              "      <td>23.465</td>\n",
              "      <td>1069.6</td>\n",
              "      <td>549.94</td>\n",
              "      <td>127.83</td>\n",
              "      <td>11.539</td>\n",
              "      <td>2.1214</td>\n",
              "      <td>67.619</td>\n",
              "    </tr>\n",
              "    <tr>\n",
              "      <th>4</th>\n",
              "      <td>9.5757</td>\n",
              "      <td>1020.8</td>\n",
              "      <td>95.412</td>\n",
              "      <td>3.1898</td>\n",
              "      <td>23.205</td>\n",
              "      <td>1068.1</td>\n",
              "      <td>549.83</td>\n",
              "      <td>126.56</td>\n",
              "      <td>11.484</td>\n",
              "      <td>2.1549</td>\n",
              "      <td>66.499</td>\n",
              "    </tr>\n",
              "  </tbody>\n",
              "</table>\n",
              "</div>"
            ],
            "text/plain": [
              "       AT      AP      AH    AFDP  ...     TEY     CDP      CO     NOX\n",
              "0  8.8358  1022.2  98.762  3.2422  ...  126.16  11.381  1.9157  68.292\n",
              "1  9.0529  1021.8  97.464  3.2074  ...  126.51  11.476  2.0596  68.610\n",
              "2  9.2464  1021.3  96.494  3.2051  ...  126.96  11.555  2.1621  68.324\n",
              "3  9.3792  1020.9  95.912  3.2159  ...  127.83  11.539  2.1214  67.619\n",
              "4  9.5757  1020.8  95.412  3.1898  ...  126.56  11.484  2.1549  66.499\n",
              "\n",
              "[5 rows x 11 columns]"
            ]
          },
          "metadata": {},
          "execution_count": 138
        }
      ]
    },
    {
      "cell_type": "markdown",
      "metadata": {
        "id": "8z73WnTruIpW"
      },
      "source": [
        "## We will do the same thing for our test set as well\n"
      ]
    },
    {
      "cell_type": "code",
      "metadata": {
        "id": "RN6IU0wxuMEe"
      },
      "source": [
        "data_test_scaled = trans.fit_transform(data_test)\n",
        "\n",
        "# Convert the array back to a dataframe\n",
        "data_test_scaled = pd.DataFrame(data_test_scaled,columns=data_test.columns)"
      ],
      "execution_count": 139,
      "outputs": []
    },
    {
      "cell_type": "code",
      "metadata": {
        "colab": {
          "base_uri": "https://localhost:8080/",
          "height": 202
        },
        "id": "flVEFpJtuUEX",
        "outputId": "5b273ae0-7f39-477b-b7f0-dfd4f96ea299"
      },
      "source": [
        "data_test_scaled.head()"
      ],
      "execution_count": 140,
      "outputs": [
        {
          "output_type": "execute_result",
          "data": {
            "text/html": [
              "<div>\n",
              "<style scoped>\n",
              "    .dataframe tbody tr th:only-of-type {\n",
              "        vertical-align: middle;\n",
              "    }\n",
              "\n",
              "    .dataframe tbody tr th {\n",
              "        vertical-align: top;\n",
              "    }\n",
              "\n",
              "    .dataframe thead th {\n",
              "        text-align: right;\n",
              "    }\n",
              "</style>\n",
              "<table border=\"1\" class=\"dataframe\">\n",
              "  <thead>\n",
              "    <tr style=\"text-align: right;\">\n",
              "      <th></th>\n",
              "      <th>AT</th>\n",
              "      <th>AP</th>\n",
              "      <th>AH</th>\n",
              "      <th>AFDP</th>\n",
              "      <th>GTEP</th>\n",
              "      <th>TIT</th>\n",
              "      <th>TAT</th>\n",
              "      <th>TEY</th>\n",
              "      <th>CDP</th>\n",
              "      <th>CO</th>\n",
              "      <th>NOX</th>\n",
              "    </tr>\n",
              "  </thead>\n",
              "  <tbody>\n",
              "    <tr>\n",
              "      <th>0</th>\n",
              "      <td>0.347747</td>\n",
              "      <td>0.694915</td>\n",
              "      <td>0.982398</td>\n",
              "      <td>0.237742</td>\n",
              "      <td>0.236945</td>\n",
              "      <td>0.659184</td>\n",
              "      <td>0.983316</td>\n",
              "      <td>0.328888</td>\n",
              "      <td>0.288137</td>\n",
              "      <td>0.046576</td>\n",
              "      <td>0.452007</td>\n",
              "    </tr>\n",
              "    <tr>\n",
              "      <th>1</th>\n",
              "      <td>0.352757</td>\n",
              "      <td>0.686441</td>\n",
              "      <td>0.965323</td>\n",
              "      <td>0.230155</td>\n",
              "      <td>0.239334</td>\n",
              "      <td>0.663265</td>\n",
              "      <td>0.979778</td>\n",
              "      <td>0.333291</td>\n",
              "      <td>0.306037</td>\n",
              "      <td>0.050078</td>\n",
              "      <td>0.455399</td>\n",
              "    </tr>\n",
              "    <tr>\n",
              "      <th>2</th>\n",
              "      <td>0.357222</td>\n",
              "      <td>0.675847</td>\n",
              "      <td>0.952562</td>\n",
              "      <td>0.229654</td>\n",
              "      <td>0.243201</td>\n",
              "      <td>0.669388</td>\n",
              "      <td>0.982053</td>\n",
              "      <td>0.338953</td>\n",
              "      <td>0.320923</td>\n",
              "      <td>0.052572</td>\n",
              "      <td>0.452349</td>\n",
              "    </tr>\n",
              "    <tr>\n",
              "      <th>3</th>\n",
              "      <td>0.360286</td>\n",
              "      <td>0.667373</td>\n",
              "      <td>0.944906</td>\n",
              "      <td>0.232009</td>\n",
              "      <td>0.250543</td>\n",
              "      <td>0.680612</td>\n",
              "      <td>0.983316</td>\n",
              "      <td>0.349899</td>\n",
              "      <td>0.317908</td>\n",
              "      <td>0.051581</td>\n",
              "      <td>0.444831</td>\n",
              "    </tr>\n",
              "    <tr>\n",
              "      <th>4</th>\n",
              "      <td>0.364820</td>\n",
              "      <td>0.665254</td>\n",
              "      <td>0.938328</td>\n",
              "      <td>0.226318</td>\n",
              "      <td>0.239248</td>\n",
              "      <td>0.665306</td>\n",
              "      <td>0.980536</td>\n",
              "      <td>0.333920</td>\n",
              "      <td>0.307544</td>\n",
              "      <td>0.052397</td>\n",
              "      <td>0.432887</td>\n",
              "    </tr>\n",
              "  </tbody>\n",
              "</table>\n",
              "</div>"
            ],
            "text/plain": [
              "         AT        AP        AH  ...       CDP        CO       NOX\n",
              "0  0.347747  0.694915  0.982398  ...  0.288137  0.046576  0.452007\n",
              "1  0.352757  0.686441  0.965323  ...  0.306037  0.050078  0.455399\n",
              "2  0.357222  0.675847  0.952562  ...  0.320923  0.052572  0.452349\n",
              "3  0.360286  0.667373  0.944906  ...  0.317908  0.051581  0.444831\n",
              "4  0.364820  0.665254  0.938328  ...  0.307544  0.052397  0.432887\n",
              "\n",
              "[5 rows x 11 columns]"
            ]
          },
          "metadata": {},
          "execution_count": 140
        }
      ]
    },
    {
      "cell_type": "markdown",
      "metadata": {
        "id": "0JD10Hqru4ou"
      },
      "source": [
        "## **Q. Do the ranges of the predictor variables make sense?**\n",
        "\n",
        "A. After intial inspection of the dataset we found that each an every variable had vastly different ranges, whic could hinder the prediction made by the model.To solve this problem, we scaled the columns using the MinMaxScaler"
      ]
    },
    {
      "cell_type": "markdown",
      "metadata": {
        "id": "BMT6aWRZwccw"
      },
      "source": [
        "## Lets plot the histograms to find out how are these variables ditributed. Lets exclude the target variable."
      ]
    },
    {
      "cell_type": "code",
      "metadata": {
        "colab": {
          "base_uri": "https://localhost:8080/",
          "height": 1000
        },
        "id": "yU1YBifJ1fDw",
        "outputId": "58a462e2-fbd8-4912-ca29-56276a508d4c"
      },
      "source": [
        "sub_plot(data_train_scaled,col = 2,row = 5,plot_type = 'histogram',ignore='TEY')"
      ],
      "execution_count": 141,
      "outputs": [
        {
          "output_type": "display_data",
          "data": {
            "image/png": "[encoded data removed]",
            "text/plain": [
              "<Figure size 1080x1080 with 10 Axes>"
            ]
          },
          "metadata": {
            "needs_background": "light"
          }
        }
      ]
    },
    {
      "cell_type": "markdown",
      "metadata": {
        "id": "ZI8ghp-l23hN"
      },
      "source": [
        "## **Q.What are the distributions of the predictor variables?**   \n",
        "\n",
        "A. Here we can see variables like AT, AP & NOX are somewhat distributed normally, whereas remaining variables have somewhat of a skew for their ditributions like AH & AFDP. Variables like CO, TAT, CDP & TIT have certain values in them whose counts are much higher as compared to other values."
      ]
    },
    {
      "cell_type": "markdown",
      "metadata": {
        "id": "p2yZEFEv3uBO"
      },
      "source": [
        "## Lets try to understand any correlation exists between the independent variables"
      ]
    },
    {
      "cell_type": "code",
      "metadata": {
        "colab": {
          "base_uri": "https://localhost:8080/",
          "height": 596
        },
        "id": "ubVEj6G232T1",
        "outputId": "38d149ee-5db0-46a1-9d0d-40b9eacfbc79"
      },
      "source": [
        "# For plotting a heatmap\n",
        "\n",
        "plt.figure(figsize=(10, 10))\n",
        "heatmap = sns.heatmap(data_train_scaled.corr(), vmin=-1, vmax=1, annot=True)"
      ],
      "execution_count": 142,
      "outputs": [
        {
          "output_type": "display_data",
          "data": {
            "image/png": "[encoded data removed]",
            "text/plain": [
              "<Figure size 720x720 with 2 Axes>"
            ]
          },
          "metadata": {
            "needs_background": "light"
          }
        }
      ]
    },
    {
      "cell_type": "markdown",
      "metadata": {
        "id": "LW1jraBO6HAg"
      },
      "source": [
        "### **Q. In the predictor variables, [are they] independent of all the other predictor variables?**\n",
        "\n",
        "A. From this heat map you can clearly see there is some correlation between the independent varaibles. Some of them are dependent as seen with a value closer to 1."
      ]
    },
    {
      "cell_type": "markdown",
      "metadata": {
        "id": "aFnfeey87b12"
      },
      "source": [
        "## To answer the questions of \n",
        "\n",
        "\n",
        "**Which independent variables are useful to predict a target (dependent variable)?**\n",
        "\n",
        "&\n",
        "\n",
        "**Which predictor variables are the most important?**\n",
        "\n",
        "We need to calculate the standardized coefficients of each variables, to determine the influence an independent variable has on the target variable.\n",
        "\n",
        "For this, will fit the training data through a regression model and view the coefficients in the model summary.\n",
        "\n"
      ]
    },
    {
      "cell_type": "code",
      "metadata": {
        "id": "ynUWW_Db73g7"
      },
      "source": [
        "reg_model = smf.OLS(data_train_scaled['TEY'], data_train_scaled[['AT', 'AP', 'AH', 'AFDP', 'GTEP', 'TIT', 'TAT', 'CDP', 'CO',\n",
        "       'NOX']]).fit()"
      ],
      "execution_count": 128,
      "outputs": []
    },
    {
      "cell_type": "code",
      "metadata": {
        "colab": {
          "base_uri": "https://localhost:8080/",
          "height": 589
        },
        "id": "uw_gWK8U_EUu",
        "outputId": "53102186-512b-43cd-c9ca-cc285467c1e4"
      },
      "source": [
        "##Lets get the summary of the model\n",
        "reg_model.summary()"
      ],
      "execution_count": 129,
      "outputs": [
        {
          "output_type": "execute_result",
          "data": {
            "text/html": [
              "<table class=\"simpletable\">\n",
              "<caption>OLS Regression Results</caption>\n",
              "<tr>\n",
              "  <th>Dep. Variable:</th>           <td>TEY</td>       <th>  R-squared (uncentered):</th>       <td>   1.000</td> \n",
              "</tr>\n",
              "<tr>\n",
              "  <th>Model:</th>                   <td>OLS</td>       <th>  Adj. R-squared (uncentered):</th>  <td>   1.000</td> \n",
              "</tr>\n",
              "<tr>\n",
              "  <th>Method:</th>             <td>Least Squares</td>  <th>  F-statistic:       </th>           <td>4.694e+06</td>\n",
              "</tr>\n",
              "<tr>\n",
              "  <th>Date:</th>             <td>Sat, 25 Sep 2021</td> <th>  Prob (F-statistic):</th>            <td>  0.00</td>  \n",
              "</tr>\n",
              "<tr>\n",
              "  <th>Time:</th>                 <td>03:27:27</td>     <th>  Log-Likelihood:    </th>           <td>  68984.</td> \n",
              "</tr>\n",
              "<tr>\n",
              "  <th>No. Observations:</th>      <td> 22191</td>      <th>  AIC:               </th>          <td>-1.379e+05</td>\n",
              "</tr>\n",
              "<tr>\n",
              "  <th>Df Residuals:</th>          <td> 22181</td>      <th>  BIC:               </th>          <td>-1.379e+05</td>\n",
              "</tr>\n",
              "<tr>\n",
              "  <th>Df Model:</th>              <td>    10</td>      <th>                     </th>               <td> </td>    \n",
              "</tr>\n",
              "<tr>\n",
              "  <th>Covariance Type:</th>      <td>nonrobust</td>    <th>                     </th>               <td> </td>    \n",
              "</tr>\n",
              "</table>\n",
              "<table class=\"simpletable\">\n",
              "<tr>\n",
              "    <td></td>      <th>coef</th>     <th>std err</th>      <th>t</th>      <th>P>|t|</th>  <th>[0.025</th>    <th>0.975]</th>  \n",
              "</tr>\n",
              "<tr>\n",
              "  <th>AT</th>   <td>   -0.1601</td> <td>    0.001</td> <td> -211.078</td> <td> 0.000</td> <td>   -0.162</td> <td>   -0.159</td>\n",
              "</tr>\n",
              "<tr>\n",
              "  <th>AP</th>   <td>   -0.0205</td> <td>    0.001</td> <td>  -35.122</td> <td> 0.000</td> <td>   -0.022</td> <td>   -0.019</td>\n",
              "</tr>\n",
              "<tr>\n",
              "  <th>AH</th>   <td>    0.0052</td> <td>    0.001</td> <td>   10.295</td> <td> 0.000</td> <td>    0.004</td> <td>    0.006</td>\n",
              "</tr>\n",
              "<tr>\n",
              "  <th>AFDP</th> <td>   -0.0028</td> <td>    0.001</td> <td>   -4.091</td> <td> 0.000</td> <td>   -0.004</td> <td>   -0.001</td>\n",
              "</tr>\n",
              "<tr>\n",
              "  <th>GTEP</th> <td>    0.1946</td> <td>    0.005</td> <td>   40.173</td> <td> 0.000</td> <td>    0.185</td> <td>    0.204</td>\n",
              "</tr>\n",
              "<tr>\n",
              "  <th>TIT</th>  <td>    0.5540</td> <td>    0.006</td> <td>   94.519</td> <td> 0.000</td> <td>    0.542</td> <td>    0.565</td>\n",
              "</tr>\n",
              "<tr>\n",
              "  <th>TAT</th>  <td>   -0.1372</td> <td>    0.003</td> <td>  -42.439</td> <td> 0.000</td> <td>   -0.144</td> <td>   -0.131</td>\n",
              "</tr>\n",
              "<tr>\n",
              "  <th>CDP</th>  <td>    0.3065</td> <td>    0.006</td> <td>   52.173</td> <td> 0.000</td> <td>    0.295</td> <td>    0.318</td>\n",
              "</tr>\n",
              "<tr>\n",
              "  <th>CO</th>   <td>    0.0254</td> <td>    0.002</td> <td>   11.161</td> <td> 0.000</td> <td>    0.021</td> <td>    0.030</td>\n",
              "</tr>\n",
              "<tr>\n",
              "  <th>NOX</th>  <td>   -0.0083</td> <td>    0.001</td> <td>   -9.545</td> <td> 0.000</td> <td>   -0.010</td> <td>   -0.007</td>\n",
              "</tr>\n",
              "</table>\n",
              "<table class=\"simpletable\">\n",
              "<tr>\n",
              "  <th>Omnibus:</th>       <td>1358.724</td> <th>  Durbin-Watson:     </th> <td>   0.474</td>\n",
              "</tr>\n",
              "<tr>\n",
              "  <th>Prob(Omnibus):</th>  <td> 0.000</td>  <th>  Jarque-Bera (JB):  </th> <td>4316.567</td>\n",
              "</tr>\n",
              "<tr>\n",
              "  <th>Skew:</th>           <td>-0.281</td>  <th>  Prob(JB):          </th> <td>    0.00</td>\n",
              "</tr>\n",
              "<tr>\n",
              "  <th>Kurtosis:</th>       <td> 5.086</td>  <th>  Cond. No.          </th> <td>    202.</td>\n",
              "</tr>\n",
              "</table><br/><br/>Warnings:<br/>[1] Standard Errors assume that the covariance matrix of the errors is correctly specified."
            ],
            "text/plain": [
              "<class 'statsmodels.iolib.summary.Summary'>\n",
              "\"\"\"\n",
              "                                 OLS Regression Results                                \n",
              "=======================================================================================\n",
              "Dep. Variable:                    TEY   R-squared (uncentered):                   1.000\n",
              "Model:                            OLS   Adj. R-squared (uncentered):              1.000\n",
              "Method:                 Least Squares   F-statistic:                          4.694e+06\n",
              "Date:                Sat, 25 Sep 2021   Prob (F-statistic):                        0.00\n",
              "Time:                        03:27:27   Log-Likelihood:                          68984.\n",
              "No. Observations:               22191   AIC:                                 -1.379e+05\n",
              "Df Residuals:                   22181   BIC:                                 -1.379e+05\n",
              "Df Model:                          10                                                  \n",
              "Covariance Type:            nonrobust                                                  \n",
              "==============================================================================\n",
              "                 coef    std err          t      P>|t|      [0.025      0.975]\n",
              "------------------------------------------------------------------------------\n",
              "AT            -0.1601      0.001   -211.078      0.000      -0.162      -0.159\n",
              "AP            -0.0205      0.001    -35.122      0.000      -0.022      -0.019\n",
              "AH             0.0052      0.001     10.295      0.000       0.004       0.006\n",
              "AFDP          -0.0028      0.001     -4.091      0.000      -0.004      -0.001\n",
              "GTEP           0.1946      0.005     40.173      0.000       0.185       0.204\n",
              "TIT            0.5540      0.006     94.519      0.000       0.542       0.565\n",
              "TAT           -0.1372      0.003    -42.439      0.000      -0.144      -0.131\n",
              "CDP            0.3065      0.006     52.173      0.000       0.295       0.318\n",
              "CO             0.0254      0.002     11.161      0.000       0.021       0.030\n",
              "NOX           -0.0083      0.001     -9.545      0.000      -0.010      -0.007\n",
              "==============================================================================\n",
              "Omnibus:                     1358.724   Durbin-Watson:                   0.474\n",
              "Prob(Omnibus):                  0.000   Jarque-Bera (JB):             4316.567\n",
              "Skew:                          -0.281   Prob(JB):                         0.00\n",
              "Kurtosis:                       5.086   Cond. No.                         202.\n",
              "==============================================================================\n",
              "\n",
              "Warnings:\n",
              "[1] Standard Errors assume that the covariance matrix of the errors is correctly specified.\n",
              "\"\"\""
            ]
          },
          "metadata": {},
          "execution_count": 129
        }
      ]
    },
    {
      "cell_type": "markdown",
      "metadata": {
        "id": "6g6iyze1_fjd"
      },
      "source": [
        "**Which independent variables are useful to predict a target (dependent variable)?**\n",
        "\n",
        "&\n",
        "\n",
        "**Which predictor variables are the most important?**\n",
        "\n",
        "\n",
        "\n",
        "A. Variables with the highest value of the standardized coeff can be consider to be most useful or most important variable."
      ]
    },
    {
      "cell_type": "markdown",
      "metadata": {
        "id": "baKu7ggcADvQ"
      },
      "source": [
        "## **Q. Do the training and test sets have the same data?**\n",
        "\n",
        "A. For this we can plot the histograms for test set and compare them. Visually, most of the data seems to be similar."
      ]
    },
    {
      "cell_type": "code",
      "metadata": {
        "colab": {
          "base_uri": "https://localhost:8080/",
          "height": 1000
        },
        "id": "Paj95KMRAOWl",
        "outputId": "a19d82f1-0e3f-4532-edf4-5710f7a8b834"
      },
      "source": [
        "sub_plot(data_test_scaled,col = 2,row = 5,plot_type = 'histogram',ignore='TEY')"
      ],
      "execution_count": 143,
      "outputs": [
        {
          "output_type": "display_data",
          "data": {
            "image/png": "[encoded data removed]",
            "text/plain": [
              "<Figure size 1080x1080 with 10 Axes>"
            ]
          },
          "metadata": {
            "needs_background": "light"
          }
        }
      ]
    },
    {
      "cell_type": "markdown",
      "metadata": {
        "id": "O_j4xswZBhaf"
      },
      "source": [
        "##References:\n",
        "\n",
        "1. Canvas Notebooks - I2P_Data_Visualization_matplotlib.ipynb\n",
        "2. How to Use StandardScaler and MinMaxScaler Transforms in Python - https://machinelearningmastery.com/standardscaler-and-minmaxscaler-transforms-in-python/\n",
        "3. Python Data Science Handbook - https://jakevdp.github.io/PythonDataScienceHandbook/\n",
        "4. Drop Highly Correlated Features -  https://chrisalbon.com/code/machine_learning/feature_selection/drop_highly_correlated_features/\n",
        "\n",
        "Some of the coding techniques and concepts were used from the above sources."
      ]
    },
    {
      "cell_type": "markdown",
      "metadata": {
        "id": "vP8jUvIDCPUP"
      },
      "source": [
        "## **Licensing**\n",
        "\n",
        "All the above information is a part of an academic assignment and is free to be used, referenced, and modified to anyone who wishes to do so."
      ]
    }
  ]
}